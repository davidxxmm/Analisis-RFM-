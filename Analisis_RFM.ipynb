{
  "nbformat": 4,
  "nbformat_minor": 0,
  "metadata": {
    "colab": {
      "name": "Analisis RFM.ipynb",
      "provenance": [],
      "collapsed_sections": [],
      "authorship_tag": "ABX9TyNtZHCzxuJb1bX/9YorY9Ty",
      "include_colab_link": true
    },
    "kernelspec": {
      "name": "python3",
      "display_name": "Python 3"
    },
    "language_info": {
      "name": "python"
    }
  },
  "cells": [
    {
      "cell_type": "markdown",
      "metadata": {
        "id": "view-in-github",
        "colab_type": "text"
      },
      "source": [
        "<a href=\"https://colab.research.google.com/github/davidxxmm/Analisis-RFM-/blob/main/Analisis_RFM.ipynb\" target=\"_parent\"><img src=\"https://colab.research.google.com/assets/colab-badge.svg\" alt=\"Open In Colab\"/></a>"
      ]
    },
    {
      "cell_type": "markdown",
      "metadata": {
        "id": "2Dp7kkFU1eI7"
      },
      "source": [
        "# Conecto el drive al Colab"
      ]
    },
    {
      "cell_type": "code",
      "metadata": {
        "colab": {
          "base_uri": "https://localhost:8080/"
        },
        "id": "5YbBy71m1aMd",
        "outputId": "011bf301-ab22-4741-b989-8a693321124e"
      },
      "source": [
        "from google.colab import drive\n",
        "drive.mount('/content/drive')"
      ],
      "execution_count": 1,
      "outputs": [
        {
          "output_type": "stream",
          "name": "stdout",
          "text": [
            "Mounted at /content/drive\n"
          ]
        }
      ]
    },
    {
      "cell_type": "markdown",
      "metadata": {
        "id": "i02OMFAf1tWz"
      },
      "source": [
        "Abro el archivo y lo veo por *arriba*"
      ]
    },
    {
      "cell_type": "code",
      "metadata": {
        "colab": {
          "base_uri": "https://localhost:8080/",
          "height": 206
        },
        "id": "MMyDdxGq1ulA",
        "outputId": "ba7f1151-d459-4524-a876-7d5cbb348c0a"
      },
      "source": [
        "import pandas as pd\n",
        "\n",
        "\n",
        "archivo = pd.read_csv('/content/drive/MyDrive/Retail/online_retail_listing.csv',delimiter=';',encoding=\"latin-1\")\n",
        "\n",
        "archivo.head()\n"
      ],
      "execution_count": 2,
      "outputs": [
        {
          "output_type": "execute_result",
          "data": {
            "text/html": [
              "<div>\n",
              "<style scoped>\n",
              "    .dataframe tbody tr th:only-of-type {\n",
              "        vertical-align: middle;\n",
              "    }\n",
              "\n",
              "    .dataframe tbody tr th {\n",
              "        vertical-align: top;\n",
              "    }\n",
              "\n",
              "    .dataframe thead th {\n",
              "        text-align: right;\n",
              "    }\n",
              "</style>\n",
              "<table border=\"1\" class=\"dataframe\">\n",
              "  <thead>\n",
              "    <tr style=\"text-align: right;\">\n",
              "      <th></th>\n",
              "      <th>Invoice</th>\n",
              "      <th>StockCode</th>\n",
              "      <th>Description</th>\n",
              "      <th>Quantity</th>\n",
              "      <th>InvoiceDate</th>\n",
              "      <th>Price</th>\n",
              "      <th>Customer ID</th>\n",
              "      <th>Country</th>\n",
              "    </tr>\n",
              "  </thead>\n",
              "  <tbody>\n",
              "    <tr>\n",
              "      <th>0</th>\n",
              "      <td>489434</td>\n",
              "      <td>85048</td>\n",
              "      <td>15CM CHRISTMAS GLASS BALL 20 LIGHTS</td>\n",
              "      <td>12</td>\n",
              "      <td>1.12.2009 07:45</td>\n",
              "      <td>6,95</td>\n",
              "      <td>13085.0</td>\n",
              "      <td>United Kingdom</td>\n",
              "    </tr>\n",
              "    <tr>\n",
              "      <th>1</th>\n",
              "      <td>489434</td>\n",
              "      <td>79323P</td>\n",
              "      <td>PINK CHERRY LIGHTS</td>\n",
              "      <td>12</td>\n",
              "      <td>1.12.2009 07:45</td>\n",
              "      <td>6,75</td>\n",
              "      <td>13085.0</td>\n",
              "      <td>United Kingdom</td>\n",
              "    </tr>\n",
              "    <tr>\n",
              "      <th>2</th>\n",
              "      <td>489434</td>\n",
              "      <td>79323W</td>\n",
              "      <td>WHITE CHERRY LIGHTS</td>\n",
              "      <td>12</td>\n",
              "      <td>1.12.2009 07:45</td>\n",
              "      <td>6,75</td>\n",
              "      <td>13085.0</td>\n",
              "      <td>United Kingdom</td>\n",
              "    </tr>\n",
              "    <tr>\n",
              "      <th>3</th>\n",
              "      <td>489434</td>\n",
              "      <td>22041</td>\n",
              "      <td>RECORD FRAME 7\" SINGLE SIZE</td>\n",
              "      <td>48</td>\n",
              "      <td>1.12.2009 07:45</td>\n",
              "      <td>2,1</td>\n",
              "      <td>13085.0</td>\n",
              "      <td>United Kingdom</td>\n",
              "    </tr>\n",
              "    <tr>\n",
              "      <th>4</th>\n",
              "      <td>489434</td>\n",
              "      <td>21232</td>\n",
              "      <td>STRAWBERRY CERAMIC TRINKET BOX</td>\n",
              "      <td>24</td>\n",
              "      <td>1.12.2009 07:45</td>\n",
              "      <td>1,25</td>\n",
              "      <td>13085.0</td>\n",
              "      <td>United Kingdom</td>\n",
              "    </tr>\n",
              "  </tbody>\n",
              "</table>\n",
              "</div>"
            ],
            "text/plain": [
              "  Invoice StockCode  ... Customer ID         Country\n",
              "0  489434     85048  ...     13085.0  United Kingdom\n",
              "1  489434    79323P  ...     13085.0  United Kingdom\n",
              "2  489434    79323W  ...     13085.0  United Kingdom\n",
              "3  489434     22041  ...     13085.0  United Kingdom\n",
              "4  489434     21232  ...     13085.0  United Kingdom\n",
              "\n",
              "[5 rows x 8 columns]"
            ]
          },
          "metadata": {},
          "execution_count": 2
        }
      ]
    },
    {
      "cell_type": "markdown",
      "metadata": {
        "id": "6azx47vF113P"
      },
      "source": [
        "Reviso columnas, tipo de datos, cantidad de registros[texto del enlace] "
      ]
    },
    {
      "cell_type": "code",
      "metadata": {
        "colab": {
          "base_uri": "https://localhost:8080/"
        },
        "id": "XW9ECwDP16YY",
        "outputId": "a90bda49-43bc-4ed2-eedd-c50ef90cef41"
      },
      "source": [
        "archivo.info()\n"
      ],
      "execution_count": 3,
      "outputs": [
        {
          "output_type": "stream",
          "name": "stdout",
          "text": [
            "<class 'pandas.core.frame.DataFrame'>\n",
            "RangeIndex: 1048575 entries, 0 to 1048574\n",
            "Data columns (total 8 columns):\n",
            " #   Column       Non-Null Count    Dtype  \n",
            "---  ------       --------------    -----  \n",
            " 0   Invoice      1048575 non-null  object \n",
            " 1   StockCode    1048575 non-null  object \n",
            " 2   Description  1044203 non-null  object \n",
            " 3   Quantity     1048575 non-null  int64  \n",
            " 4   InvoiceDate  1048575 non-null  object \n",
            " 5   Price        1048575 non-null  object \n",
            " 6   Customer ID  811893 non-null   float64\n",
            " 7   Country      1048575 non-null  object \n",
            "dtypes: float64(1), int64(1), object(6)\n",
            "memory usage: 64.0+ MB\n"
          ]
        }
      ]
    },
    {
      "cell_type": "markdown",
      "metadata": {
        "id": "xyuTcny_179Q"
      },
      "source": [
        "Es cortito, da una idea del archivo, no es necesario con el comando de arriba realizado."
      ]
    },
    {
      "cell_type": "code",
      "metadata": {
        "colab": {
          "base_uri": "https://localhost:8080/"
        },
        "id": "l1vsozKG2ATh",
        "outputId": "5ae2b94f-3128-4adc-c2f8-0c317aefe186"
      },
      "source": [
        "archivo.shape"
      ],
      "execution_count": 4,
      "outputs": [
        {
          "output_type": "execute_result",
          "data": {
            "text/plain": [
              "(1048575, 8)"
            ]
          },
          "metadata": {},
          "execution_count": 4
        }
      ]
    },
    {
      "cell_type": "code",
      "metadata": {
        "colab": {
          "base_uri": "https://localhost:8080/"
        },
        "id": "b7So46mE2KwS",
        "outputId": "43787ad7-4d73-486a-ccc7-6d8f44f40a59"
      },
      "source": [
        "len(archivo[\"Description\"].unique()) "
      ],
      "execution_count": 5,
      "outputs": [
        {
          "output_type": "execute_result",
          "data": {
            "text/plain": [
              "5698"
            ]
          },
          "metadata": {},
          "execution_count": 5
        }
      ]
    },
    {
      "cell_type": "markdown",
      "metadata": {
        "id": "5J8GJezJ3meg"
      },
      "source": [
        ""
      ]
    },
    {
      "cell_type": "code",
      "metadata": {
        "colab": {
          "base_uri": "https://localhost:8080/"
        },
        "id": "1Tz5HU4M2NU8",
        "outputId": "12dd66ac-ee13-483f-e96e-2b0dc427b568"
      },
      "source": [
        "len(archivo[\"Invoice\"].unique()) \n"
      ],
      "execution_count": 6,
      "outputs": [
        {
          "output_type": "execute_result",
          "data": {
            "text/plain": [
              "52961"
            ]
          },
          "metadata": {},
          "execution_count": 6
        }
      ]
    },
    {
      "cell_type": "code",
      "metadata": {
        "colab": {
          "base_uri": "https://localhost:8080/"
        },
        "id": "W5mRoEEM2Pao",
        "outputId": "aedd71ea-ac6b-4c8d-d467-e387f374fd29"
      },
      "source": [
        "archivo[\"Description\"].value_counts().head()"
      ],
      "execution_count": 7,
      "outputs": [
        {
          "output_type": "execute_result",
          "data": {
            "text/plain": [
              "WHITE HANGING HEART T-LIGHT HOLDER    5875\n",
              "REGENCY CAKESTAND 3 TIER              4364\n",
              "JUMBO BAG RED RETROSPOT               3426\n",
              "ASSORTED COLOUR BIRD ORNAMENT         2928\n",
              "PARTY BUNTING                         2746\n",
              "Name: Description, dtype: int64"
            ]
          },
          "metadata": {},
          "execution_count": 7
        }
      ]
    },
    {
      "cell_type": "markdown",
      "metadata": {
        "id": "sibDuLnE2TNh"
      },
      "source": [
        "Aca se pone bueno, empezamos a jugar con la info del archivo. Esta bueno para ver como se hacen los group by y sumarizacion. Es importante ver que todo eso, se devuelve en un dataframe.\n",
        "\n"
      ]
    },
    {
      "cell_type": "code",
      "metadata": {
        "colab": {
          "base_uri": "https://localhost:8080/",
          "height": 238
        },
        "id": "GxIAQvyy2Uaz",
        "outputId": "2491e4cc-8920-4f79-a331-6f94435aaea9"
      },
      "source": [
        "archivo.groupby(\"Description\").agg({\"Quantity\":\"sum\"}  ).head()"
      ],
      "execution_count": 8,
      "outputs": [
        {
          "output_type": "execute_result",
          "data": {
            "text/html": [
              "<div>\n",
              "<style scoped>\n",
              "    .dataframe tbody tr th:only-of-type {\n",
              "        vertical-align: middle;\n",
              "    }\n",
              "\n",
              "    .dataframe tbody tr th {\n",
              "        vertical-align: top;\n",
              "    }\n",
              "\n",
              "    .dataframe thead th {\n",
              "        text-align: right;\n",
              "    }\n",
              "</style>\n",
              "<table border=\"1\" class=\"dataframe\">\n",
              "  <thead>\n",
              "    <tr style=\"text-align: right;\">\n",
              "      <th></th>\n",
              "      <th>Quantity</th>\n",
              "    </tr>\n",
              "    <tr>\n",
              "      <th>Description</th>\n",
              "      <th></th>\n",
              "    </tr>\n",
              "  </thead>\n",
              "  <tbody>\n",
              "    <tr>\n",
              "      <th>DOORMAT UNION JACK GUNS AND ROSES</th>\n",
              "      <td>179</td>\n",
              "    </tr>\n",
              "    <tr>\n",
              "      <th>3 STRIPEY MICE FELTCRAFT</th>\n",
              "      <td>690</td>\n",
              "    </tr>\n",
              "    <tr>\n",
              "      <th>4 PURPLE FLOCK DINNER CANDLES</th>\n",
              "      <td>302</td>\n",
              "    </tr>\n",
              "    <tr>\n",
              "      <th>50'S CHRISTMAS GIFT BAG LARGE</th>\n",
              "      <td>1875</td>\n",
              "    </tr>\n",
              "    <tr>\n",
              "      <th>ANIMAL STICKERS</th>\n",
              "      <td>385</td>\n",
              "    </tr>\n",
              "  </tbody>\n",
              "</table>\n",
              "</div>"
            ],
            "text/plain": [
              "                                     Quantity\n",
              "Description                                  \n",
              "  DOORMAT UNION JACK GUNS AND ROSES       179\n",
              " 3 STRIPEY MICE FELTCRAFT                 690\n",
              " 4 PURPLE FLOCK DINNER CANDLES            302\n",
              " 50'S CHRISTMAS GIFT BAG LARGE           1875\n",
              " ANIMAL STICKERS                          385"
            ]
          },
          "metadata": {},
          "execution_count": 8
        }
      ]
    },
    {
      "cell_type": "markdown",
      "metadata": {
        "id": "qhJrjDA82XTB"
      },
      "source": [
        "Vale agrupar y sumarizar, en si no deja de ser distinto a un SQL\n"
      ]
    },
    {
      "cell_type": "code",
      "metadata": {
        "colab": {
          "base_uri": "https://localhost:8080/",
          "height": 455
        },
        "id": "9tNZukJN2ZaZ",
        "outputId": "aed3ba66-dda3-40e6-bfb1-b402d8bbdd58"
      },
      "source": [
        "archivo.groupby([\"Description\", \"Invoice\" ]).agg({\"Quantity\":\"sum\"}  )"
      ],
      "execution_count": 9,
      "outputs": [
        {
          "output_type": "execute_result",
          "data": {
            "text/html": [
              "<div>\n",
              "<style scoped>\n",
              "    .dataframe tbody tr th:only-of-type {\n",
              "        vertical-align: middle;\n",
              "    }\n",
              "\n",
              "    .dataframe tbody tr th {\n",
              "        vertical-align: top;\n",
              "    }\n",
              "\n",
              "    .dataframe thead th {\n",
              "        text-align: right;\n",
              "    }\n",
              "</style>\n",
              "<table border=\"1\" class=\"dataframe\">\n",
              "  <thead>\n",
              "    <tr style=\"text-align: right;\">\n",
              "      <th></th>\n",
              "      <th></th>\n",
              "      <th>Quantity</th>\n",
              "    </tr>\n",
              "    <tr>\n",
              "      <th>Description</th>\n",
              "      <th>Invoice</th>\n",
              "      <th></th>\n",
              "    </tr>\n",
              "  </thead>\n",
              "  <tbody>\n",
              "    <tr>\n",
              "      <th rowspan=\"5\" valign=\"top\">DOORMAT UNION JACK GUNS AND ROSES</th>\n",
              "      <th>493716</th>\n",
              "      <td>1</td>\n",
              "    </tr>\n",
              "    <tr>\n",
              "      <th>493947</th>\n",
              "      <td>1</td>\n",
              "    </tr>\n",
              "    <tr>\n",
              "      <th>493961</th>\n",
              "      <td>1</td>\n",
              "    </tr>\n",
              "    <tr>\n",
              "      <th>493969</th>\n",
              "      <td>10</td>\n",
              "    </tr>\n",
              "    <tr>\n",
              "      <th>493982</th>\n",
              "      <td>3</td>\n",
              "    </tr>\n",
              "    <tr>\n",
              "      <th>...</th>\n",
              "      <th>...</th>\n",
              "      <td>...</td>\n",
              "    </tr>\n",
              "    <tr>\n",
              "      <th>wrongly marked carton 22804</th>\n",
              "      <th>575722</th>\n",
              "      <td>-256</td>\n",
              "    </tr>\n",
              "    <tr>\n",
              "      <th>wrongly marked. 23343 in box</th>\n",
              "      <th>560039</th>\n",
              "      <td>-3100</td>\n",
              "    </tr>\n",
              "    <tr>\n",
              "      <th>wrongly sold (22719) barcode</th>\n",
              "      <th>546408</th>\n",
              "      <td>170</td>\n",
              "    </tr>\n",
              "    <tr>\n",
              "      <th>wrongly sold as sets</th>\n",
              "      <th>546018</th>\n",
              "      <td>-600</td>\n",
              "    </tr>\n",
              "    <tr>\n",
              "      <th>wrongly sold sets</th>\n",
              "      <th>546023</th>\n",
              "      <td>-975</td>\n",
              "    </tr>\n",
              "  </tbody>\n",
              "</table>\n",
              "<p>998321 rows × 1 columns</p>\n",
              "</div>"
            ],
            "text/plain": [
              "                                             Quantity\n",
              "Description                         Invoice          \n",
              "  DOORMAT UNION JACK GUNS AND ROSES 493716          1\n",
              "                                    493947          1\n",
              "                                    493961          1\n",
              "                                    493969         10\n",
              "                                    493982          3\n",
              "...                                               ...\n",
              "wrongly marked carton 22804         575722       -256\n",
              "wrongly marked. 23343 in box        560039      -3100\n",
              "wrongly sold (22719) barcode        546408        170\n",
              "wrongly sold as sets                546018       -600\n",
              "wrongly sold sets                   546023       -975\n",
              "\n",
              "[998321 rows x 1 columns]"
            ]
          },
          "metadata": {},
          "execution_count": 9
        }
      ]
    },
    {
      "cell_type": "markdown",
      "metadata": {
        "id": "lEHguufF3oH2"
      },
      "source": [
        "Agrega una columna, formate campos. Prestar atencion a como eliminar la anotacion cientifica. Se hace con el astype, sino aparece la e+ en el numero."
      ]
    },
    {
      "cell_type": "code",
      "metadata": {
        "colab": {
          "base_uri": "https://localhost:8080/",
          "height": 206
        },
        "id": "HUlzEy6f3stO",
        "outputId": "0de29132-d817-4520-b43c-7e25466a26ed"
      },
      "source": [
        "#archivo[\"TotalPrice\"] = archivo[\"Price\"].to_numeric()*archivo[\"Quantity\"]\n",
        "\n",
        "#archivo[\"Price\"] = archivo[\"Price\"].astype(float, errors = \"ignore\")\n",
        "\n",
        "\n",
        "archivo[\"Price\"] = archivo[\"Price\"].str.replace(\",\", \".\").astype(float, errors = \"ignore\")\n",
        "\n",
        "archivo[\"TotalPrice\"] = archivo[\"Price\"] *archivo[\"Quantity\"]\n",
        "\n",
        "archivo.head()"
      ],
      "execution_count": 10,
      "outputs": [
        {
          "output_type": "execute_result",
          "data": {
            "text/html": [
              "<div>\n",
              "<style scoped>\n",
              "    .dataframe tbody tr th:only-of-type {\n",
              "        vertical-align: middle;\n",
              "    }\n",
              "\n",
              "    .dataframe tbody tr th {\n",
              "        vertical-align: top;\n",
              "    }\n",
              "\n",
              "    .dataframe thead th {\n",
              "        text-align: right;\n",
              "    }\n",
              "</style>\n",
              "<table border=\"1\" class=\"dataframe\">\n",
              "  <thead>\n",
              "    <tr style=\"text-align: right;\">\n",
              "      <th></th>\n",
              "      <th>Invoice</th>\n",
              "      <th>StockCode</th>\n",
              "      <th>Description</th>\n",
              "      <th>Quantity</th>\n",
              "      <th>InvoiceDate</th>\n",
              "      <th>Price</th>\n",
              "      <th>Customer ID</th>\n",
              "      <th>Country</th>\n",
              "      <th>TotalPrice</th>\n",
              "    </tr>\n",
              "  </thead>\n",
              "  <tbody>\n",
              "    <tr>\n",
              "      <th>0</th>\n",
              "      <td>489434</td>\n",
              "      <td>85048</td>\n",
              "      <td>15CM CHRISTMAS GLASS BALL 20 LIGHTS</td>\n",
              "      <td>12</td>\n",
              "      <td>1.12.2009 07:45</td>\n",
              "      <td>6.95</td>\n",
              "      <td>13085.0</td>\n",
              "      <td>United Kingdom</td>\n",
              "      <td>83.4</td>\n",
              "    </tr>\n",
              "    <tr>\n",
              "      <th>1</th>\n",
              "      <td>489434</td>\n",
              "      <td>79323P</td>\n",
              "      <td>PINK CHERRY LIGHTS</td>\n",
              "      <td>12</td>\n",
              "      <td>1.12.2009 07:45</td>\n",
              "      <td>6.75</td>\n",
              "      <td>13085.0</td>\n",
              "      <td>United Kingdom</td>\n",
              "      <td>81.0</td>\n",
              "    </tr>\n",
              "    <tr>\n",
              "      <th>2</th>\n",
              "      <td>489434</td>\n",
              "      <td>79323W</td>\n",
              "      <td>WHITE CHERRY LIGHTS</td>\n",
              "      <td>12</td>\n",
              "      <td>1.12.2009 07:45</td>\n",
              "      <td>6.75</td>\n",
              "      <td>13085.0</td>\n",
              "      <td>United Kingdom</td>\n",
              "      <td>81.0</td>\n",
              "    </tr>\n",
              "    <tr>\n",
              "      <th>3</th>\n",
              "      <td>489434</td>\n",
              "      <td>22041</td>\n",
              "      <td>RECORD FRAME 7\" SINGLE SIZE</td>\n",
              "      <td>48</td>\n",
              "      <td>1.12.2009 07:45</td>\n",
              "      <td>2.10</td>\n",
              "      <td>13085.0</td>\n",
              "      <td>United Kingdom</td>\n",
              "      <td>100.8</td>\n",
              "    </tr>\n",
              "    <tr>\n",
              "      <th>4</th>\n",
              "      <td>489434</td>\n",
              "      <td>21232</td>\n",
              "      <td>STRAWBERRY CERAMIC TRINKET BOX</td>\n",
              "      <td>24</td>\n",
              "      <td>1.12.2009 07:45</td>\n",
              "      <td>1.25</td>\n",
              "      <td>13085.0</td>\n",
              "      <td>United Kingdom</td>\n",
              "      <td>30.0</td>\n",
              "    </tr>\n",
              "  </tbody>\n",
              "</table>\n",
              "</div>"
            ],
            "text/plain": [
              "  Invoice StockCode  ...         Country  TotalPrice\n",
              "0  489434     85048  ...  United Kingdom        83.4\n",
              "1  489434    79323P  ...  United Kingdom        81.0\n",
              "2  489434    79323W  ...  United Kingdom        81.0\n",
              "3  489434     22041  ...  United Kingdom       100.8\n",
              "4  489434     21232  ...  United Kingdom        30.0\n",
              "\n",
              "[5 rows x 9 columns]"
            ]
          },
          "metadata": {},
          "execution_count": 10
        }
      ]
    },
    {
      "cell_type": "code",
      "metadata": {
        "colab": {
          "base_uri": "https://localhost:8080/",
          "height": 238
        },
        "id": "s67TY4O43yvf",
        "outputId": "f0577c55-28c3-4ada-d814-e5dc3662f9f3"
      },
      "source": [
        "archivo.groupby(\"Invoice\").agg({\"TotalPrice\":\"sum\"}).head()"
      ],
      "execution_count": 11,
      "outputs": [
        {
          "output_type": "execute_result",
          "data": {
            "text/html": [
              "<div>\n",
              "<style scoped>\n",
              "    .dataframe tbody tr th:only-of-type {\n",
              "        vertical-align: middle;\n",
              "    }\n",
              "\n",
              "    .dataframe tbody tr th {\n",
              "        vertical-align: top;\n",
              "    }\n",
              "\n",
              "    .dataframe thead th {\n",
              "        text-align: right;\n",
              "    }\n",
              "</style>\n",
              "<table border=\"1\" class=\"dataframe\">\n",
              "  <thead>\n",
              "    <tr style=\"text-align: right;\">\n",
              "      <th></th>\n",
              "      <th>TotalPrice</th>\n",
              "    </tr>\n",
              "    <tr>\n",
              "      <th>Invoice</th>\n",
              "      <th></th>\n",
              "    </tr>\n",
              "  </thead>\n",
              "  <tbody>\n",
              "    <tr>\n",
              "      <th>489434</th>\n",
              "      <td>505.30</td>\n",
              "    </tr>\n",
              "    <tr>\n",
              "      <th>489435</th>\n",
              "      <td>145.80</td>\n",
              "    </tr>\n",
              "    <tr>\n",
              "      <th>489436</th>\n",
              "      <td>630.33</td>\n",
              "    </tr>\n",
              "    <tr>\n",
              "      <th>489437</th>\n",
              "      <td>310.75</td>\n",
              "    </tr>\n",
              "    <tr>\n",
              "      <th>489438</th>\n",
              "      <td>2286.24</td>\n",
              "    </tr>\n",
              "  </tbody>\n",
              "</table>\n",
              "</div>"
            ],
            "text/plain": [
              "         TotalPrice\n",
              "Invoice            \n",
              "489434       505.30\n",
              "489435       145.80\n",
              "489436       630.33\n",
              "489437       310.75\n",
              "489438      2286.24"
            ]
          },
          "metadata": {},
          "execution_count": 11
        }
      ]
    },
    {
      "cell_type": "markdown",
      "metadata": {
        "id": "iSLw0iM730OG"
      },
      "source": [
        "Usamos un grafico de barra, para representar las ventas por paises. *texto en cursiva*"
      ]
    },
    {
      "cell_type": "code",
      "metadata": {
        "colab": {
          "base_uri": "https://localhost:8080/",
          "height": 342
        },
        "id": "e0SXsQ1X33YW",
        "outputId": "72bf05e4-3a4d-45ac-b8f1-9752607b3232"
      },
      "source": [
        "import matplotlib.pyplot as plt\n",
        "\n",
        "graf_values = archivo.groupby(\"Country\").agg({\"TotalPrice\":\"sum\"}).round(decimals=2).head(20)\n",
        "\n",
        "#print(graf_values.index.values )\n",
        "\n",
        "#print(graf_values[\"TotalPrice\"].values.astype(str))\n",
        "\n",
        "x = graf_values.index.values\n",
        "y = graf_values[\"TotalPrice\"].values\n",
        "\n",
        "# plot\n",
        "fig, ax = plt.subplots()\n",
        "\n",
        "ax.bar(x, y, width=1, edgecolor=\"white\")\n",
        "\n",
        "fig.autofmt_xdate(rotation=90) \n",
        "\n",
        "plt.show()"
      ],
      "execution_count": 12,
      "outputs": [
        {
          "output_type": "display_data",
          "data": {
            "image/png": "[encoded data removed]",
            "text/plain": [
              "<Figure size 432x288 with 1 Axes>"
            ]
          },
          "metadata": {
            "needs_background": "light"
          }
        }
      ]
    }
  ]
}